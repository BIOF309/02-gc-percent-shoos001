{
 "cells": [
  {
   "cell_type": "code",
   "execution_count": 3,
   "metadata": {},
   "outputs": [
    {
     "name": "stdout",
     "output_type": "stream",
     "text": [
      "%hist\n",
      "# This sequence is the first 100 nucleotides of the Influenza H1N1 Virus segment 8\n",
      "\n",
      "flu_ns1_seq = 'GTGACAAAGACATAATGGATCCAAACACTGTGTCAAGCTTTCAGGTAGATTGCTTTCTTTGGCATGTCCGCAAACGAGTTGCAGACCAAGAACTAGGTGA'\n",
      "\n",
      "#Count the number of \"C\"s in the above sequence\n",
      "\n",
      "C_num = flu_ns1_seq.count('C')\n",
      "\n",
      "\n",
      "#Count the number of \"G\"s in the above sequence\n",
      "\n",
      "G_num = flu_ns1_seq.count('G') \n",
      "\n",
      "\n",
      "#Add \"C\" and \"G\" counts together\n",
      "\n",
      "GC_num = G_num + C_num\n",
      "\n",
      "\n",
      "#Count the total number of nucleotides in the sequence\n",
      "\n",
      "Nucleotides_length = len(flu_ns1_seq)\n",
      "\n",
      "\n",
      "#Divide the total number of \"C\" and \"G\" nucleotides by the total number of nucleotides\n",
      "\n",
      "GC_percentage = GC_num / Nucleotides_length * 100\n",
      "\n",
      "#Print the percentage\n",
      "\n",
      "print (\"GC percentage: \" + str(GC_percentage) + \" %\")\n",
      "%hist\n"
     ]
    }
   ],
   "source": [
    "%hist"
   ]
  },
  {
   "cell_type": "code",
   "execution_count": null,
   "metadata": {
    "collapsed": true
   },
   "outputs": [],
   "source": []
  },
  {
   "cell_type": "code",
   "execution_count": null,
   "metadata": {
    "collapsed": true
   },
   "outputs": [],
   "source": []
  },
  {
   "cell_type": "code",
   "execution_count": null,
   "metadata": {
    "collapsed": true
   },
   "outputs": [],
   "source": []
  }
 ],
 "metadata": {
  "kernelspec": {
   "display_name": "Python 3",
   "language": "python",
   "name": "python3"
  },
  "language_info": {
   "codemirror_mode": {
    "name": "ipython",
    "version": 3
   },
   "file_extension": ".py",
   "mimetype": "text/x-python",
   "name": "python",
   "nbconvert_exporter": "python",
   "pygments_lexer": "ipython3",
   "version": "3.6.1"
  }
 },
 "nbformat": 4,
 "nbformat_minor": 2
}
